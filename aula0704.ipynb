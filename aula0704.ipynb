{
  "nbformat": 4,
  "nbformat_minor": 0,
  "metadata": {
    "colab": {
      "provenance": [],
      "authorship_tag": "ABX9TyPhWVmfa/znbgRosx5hvOeG",
      "include_colab_link": true
    },
    "kernelspec": {
      "name": "python3",
      "display_name": "Python 3"
    },
    "language_info": {
      "name": "python"
    }
  },
  "cells": [
    {
      "cell_type": "markdown",
      "metadata": {
        "id": "view-in-github",
        "colab_type": "text"
      },
      "source": [
        "<a href=\"https://colab.research.google.com/github/Sofiahhh/PjEchosWorld/blob/main/aula0704.ipynb\" target=\"_parent\"><img src=\"https://colab.research.google.com/assets/colab-badge.svg\" alt=\"Open In Colab\"/></a>"
      ]
    },
    {
      "cell_type": "code",
      "execution_count": 1,
      "metadata": {
        "colab": {
          "base_uri": "https://localhost:8080/"
        },
        "id": "_E31YfXAfDYB",
        "outputId": "9efef52c-e3e7-440f-d21b-cf32f4f0b816"
      },
      "outputs": [
        {
          "output_type": "stream",
          "name": "stdout",
          "text": [
            "raíz quadrada = 3.0\n"
          ]
        }
      ],
      "source": [
        "from math import*\n",
        "a = 9\n",
        "c = sqrt(a)\n",
        "print(f'raíz quadrada = {c}')"
      ]
    },
    {
      "cell_type": "code",
      "source": [
        "a = 10\n",
        "a +=10\n",
        "print(f'valor de a = {a}')"
      ],
      "metadata": {
        "colab": {
          "base_uri": "https://localhost:8080/"
        },
        "id": "jYhyfjb4hraN",
        "outputId": "6cacdd7b-7d17-4df0-bca7-d7ffef7eb734"
      },
      "execution_count": 2,
      "outputs": [
        {
          "output_type": "stream",
          "name": "stdout",
          "text": [
            "valor de a = 20\n"
          ]
        }
      ]
    },
    {
      "cell_type": "code",
      "source": [
        "a = 10\n",
        "b = 15\n",
        "c = a ==b #ou c = a (a == b)\n",
        "print(f'O a é igual ao b? {c}')"
      ],
      "metadata": {
        "colab": {
          "base_uri": "https://localhost:8080/"
        },
        "id": "cJ_6SRgZjaLM",
        "outputId": "8806cd91-7f15-46d2-ef26-672762aa178e"
      },
      "execution_count": 3,
      "outputs": [
        {
          "output_type": "stream",
          "name": "stdout",
          "text": [
            "O a é igual ao b? False\n"
          ]
        }
      ]
    },
    {
      "cell_type": "code",
      "source": [
        "print(\"informe as notas do estudante: \")\n",
        "a = int(input(\"digite a nota do 1° bimestre: \"))\n",
        "b = int(input(\"digite a nota do 2° bimestre: \"))\n",
        "c = int(input(\"digite a nota do 3° bimestre: \"))\n",
        "d = int(input(\"digite a nota do 4° bimestre: \"))\n",
        "mc = 7\n",
        "m = (a + b + c + d)/4\n",
        "r = m >= mc\n",
        "print(f'está aprovado? {r}')"
      ],
      "metadata": {
        "colab": {
          "base_uri": "https://localhost:8080/"
        },
        "id": "1ZmdeCFFkfSi",
        "outputId": "421c34d7-ae3a-4510-a1d5-ce4e48a3c175"
      },
      "execution_count": 4,
      "outputs": [
        {
          "output_type": "stream",
          "name": "stdout",
          "text": [
            "informe as notas do estudante: \n",
            "digite a nota do 1° bimestre: 55\n",
            "digite a nota do 2° bimestre: 66\n",
            "digite a nota do 3° bimestre: 77\n",
            "digite a nota do 4° bimestre: 66\n",
            "está aprovado? True\n"
          ]
        }
      ]
    },
    {
      "cell_type": "code",
      "source": [
        "print(\"informe as notas do estudante: \")\n",
        "a = int(input(\"digite a nota do 1° bimestre: \"))\n",
        "b = int(input(\"digite a nota do 2° bimestre: \"))\n",
        "c = int(input(\"digite a nota do 3° bimestre: \"))\n",
        "d = int(input(\"digite a nota do 4° bimestre: \"))\n",
        "\n",
        "print(\"\\n\")\n",
        "f = int(input(\"informe também, a frequencia do aluno (0 a 100): \"))\n",
        "mc = 7\n",
        "fc = 75\n",
        "\n",
        "m = (a + b + c + d)/4\n",
        "r = (m >= mc) and (f >= fc)\n",
        "print(f'está aprovado? {r}')"
      ],
      "metadata": {
        "colab": {
          "base_uri": "https://localhost:8080/"
        },
        "id": "Ch3eZchKmVaA",
        "outputId": "ea686dbd-869e-44af-b85f-e666153804e7"
      },
      "execution_count": 6,
      "outputs": [
        {
          "output_type": "stream",
          "name": "stdout",
          "text": [
            "informe as notas do estudante: \n",
            "digite a nota do 1° bimestre: 6\n",
            "digite a nota do 2° bimestre: 8\n",
            "digite a nota do 3° bimestre: 7\n",
            "digite a nota do 4° bimestre: 8\n",
            "\n",
            "\n",
            "informe também, a frequencia do aluno (0 a 100): 70\n",
            "está aprovado? False\n"
          ]
        }
      ]
    },
    {
      "cell_type": "code",
      "source": [],
      "metadata": {
        "id": "zZZmMJfGn3C3"
      },
      "execution_count": null,
      "outputs": []
    }
  ]
}